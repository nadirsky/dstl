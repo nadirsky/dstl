{
 "cells": [
  {
   "cell_type": "code",
   "execution_count": 4,
   "metadata": {
    "collapsed": true
   },
   "outputs": [],
   "source": [
    "import h5py\n",
    "import numpy as np"
   ]
  },
  {
   "cell_type": "code",
   "execution_count": null,
   "metadata": {
    "collapsed": false
   },
   "outputs": [],
   "source": [
    "LARGE_VEHICLES = 9\n",
    "SMALL_VEHICLES = 10\n",
    "\n",
    "hf = h5py.File('/mnt/ml-team/satellites/files/dstl-test-20channels_ver2.h5')\n",
    "\n",
    "\n",
    "means = np.array([433.63702393, 470.16989136, 336.4604187, 505.84042358,\n",
    "                  295.93945312, 336.45907593, 470.146698, 476.11135864,\n",
    "                  433.62802124, 520.07617188, 692.80700684, 521.65710449,\n",
    "                  4398.10644531, 4629.50585938, 4317.39990234, 3875.63598633,\n",
    "                  3026.12573242, 2718.59057617, 2659.33374023, 2568.97021484], dtype=np.float16)\n",
    "std = np.array([218.58804321, 172.68545532, 109.00450134, 166.98269653,\n",
    "                40.36304474, 109.01099396, 172.72686768, 175.36598206,\n",
    "                218.5912323, 158.89251709, 232.90725708, 142.55833435,\n",
    "                1896.10668945, 2496.32739258, 2206.86889648, 2129.56494141,\n",
    "                1881.29187012, 1666.98059082, 1668.1427002, 1703.44152832], dtype=np.float16)\n",
    "\n",
    "channels_cache = {}\n",
    "for key in hf.keys():\n",
    "    channels_cache[key] = hf[key].value"
   ]
  },
  {
   "cell_type": "code",
   "execution_count": 6,
   "metadata": {
    "collapsed": true
   },
   "outputs": [],
   "source": [
    "def expand_crop(image_crop):\n",
    "    crop = np.zeros((crop_width, crop_height, 20))\n",
    "    image = np.asarray(image_crop)\n",
    "    print(crop.shape)\n",
    "    print(image.shape)\n",
    "\n",
    "    crop[:image.shape[0], :image.shape[1]] = image_crop\n",
    "\n",
    "    print(crop)\n",
    "\n",
    "    return crop\n",
    "\n",
    "def generate_mask():\n",
    "    for key in hf.keys():\n",
    "        image = channels_cache[key]\n",
    "    \n",
    "        image_width = image.shape[0]\n",
    "        image_height = image.shape[1]\n",
    "    \n",
    "        for i in xrange(0, image_width, crop_width):\n",
    "            for j in xrange(0, image_height, crop_height):\n",
    "                image_crop = image[i:min(i+crop_width,image_width-1), j:min(j+image_height,image_height-1)]\n",
    "                crop = expand_crop(image_crop)"
   ]
  },
  {
   "cell_type": "code",
   "execution_count": 7,
   "metadata": {
    "collapsed": true
   },
   "outputs": [],
   "source": [
    "crop_width, crop_height = 128, 128\n"
   ]
  },
  {
   "cell_type": "code",
   "execution_count": 8,
   "metadata": {
    "collapsed": false
   },
   "outputs": [
    {
     "name": "stdout",
     "output_type": "stream",
     "text": [
      "(128, 128, 20)\n"
     ]
    },
    {
     "ename": "AttributeError",
     "evalue": "'list' object has no attribute 'shape'",
     "output_type": "error",
     "traceback": [
      "\u001b[0;31m---------------------------------------------------------------------------\u001b[0m",
      "\u001b[0;31mAttributeError\u001b[0m                            Traceback (most recent call last)",
      "\u001b[0;32m<ipython-input-8-f50c8b7fe8fd>\u001b[0m in \u001b[0;36m<module>\u001b[0;34m()\u001b[0m\n\u001b[0;32m----> 1\u001b[0;31m \u001b[0mexpand_crop\u001b[0m\u001b[0;34m(\u001b[0m\u001b[0;34m[\u001b[0m\u001b[0;34m[\u001b[0m\u001b[0;34m[\u001b[0m\u001b[0;36m1\u001b[0m\u001b[0;34m]\u001b[0m\u001b[0;34m]\u001b[0m\u001b[0;34m]\u001b[0m\u001b[0;34m)\u001b[0m\u001b[0;34m\u001b[0m\u001b[0m\n\u001b[0m",
      "\u001b[0;32m<ipython-input-6-036d2345b9ef>\u001b[0m in \u001b[0;36mexpand_crop\u001b[0;34m(image_crop)\u001b[0m\n\u001b[1;32m      3\u001b[0m \u001b[0;34m\u001b[0m\u001b[0m\n\u001b[1;32m      4\u001b[0m     \u001b[0;32mprint\u001b[0m\u001b[0;34m(\u001b[0m\u001b[0mcrop\u001b[0m\u001b[0;34m.\u001b[0m\u001b[0mshape\u001b[0m\u001b[0;34m)\u001b[0m\u001b[0;34m\u001b[0m\u001b[0m\n\u001b[0;32m----> 5\u001b[0;31m     \u001b[0;32mprint\u001b[0m\u001b[0;34m(\u001b[0m\u001b[0mimage_crop\u001b[0m\u001b[0;34m.\u001b[0m\u001b[0mshape\u001b[0m\u001b[0;34m)\u001b[0m\u001b[0;34m\u001b[0m\u001b[0m\n\u001b[0m\u001b[1;32m      6\u001b[0m \u001b[0;34m\u001b[0m\u001b[0m\n\u001b[1;32m      7\u001b[0m     \u001b[0mcrop\u001b[0m\u001b[0;34m[\u001b[0m\u001b[0;34m:\u001b[0m\u001b[0mimage_crop\u001b[0m\u001b[0;34m.\u001b[0m\u001b[0mshape\u001b[0m\u001b[0;34m[\u001b[0m\u001b[0;36m0\u001b[0m\u001b[0;34m]\u001b[0m\u001b[0;34m,\u001b[0m \u001b[0;34m:\u001b[0m\u001b[0mimage_crop\u001b[0m\u001b[0;34m.\u001b[0m\u001b[0mshape\u001b[0m\u001b[0;34m[\u001b[0m\u001b[0;36m1\u001b[0m\u001b[0;34m]\u001b[0m\u001b[0;34m]\u001b[0m \u001b[0;34m=\u001b[0m \u001b[0mimage_crop\u001b[0m\u001b[0;34m\u001b[0m\u001b[0m\n",
      "\u001b[0;31mAttributeError\u001b[0m: 'list' object has no attribute 'shape'"
     ]
    }
   ],
   "source": [
    "expand_crop([[[1]]])"
   ]
  },
  {
   "cell_type": "code",
   "execution_count": null,
   "metadata": {
    "collapsed": true
   },
   "outputs": [],
   "source": []
  }
 ],
 "metadata": {
  "anaconda-cloud": {},
  "kernelspec": {
   "display_name": "Python [conda root]",
   "language": "python",
   "name": "conda-root-py"
  },
  "language_info": {
   "codemirror_mode": {
    "name": "ipython",
    "version": 2
   },
   "file_extension": ".py",
   "mimetype": "text/x-python",
   "name": "python",
   "nbconvert_exporter": "python",
   "pygments_lexer": "ipython2",
   "version": "2.7.12"
  }
 },
 "nbformat": 4,
 "nbformat_minor": 1
}
